{
 "cells": [
  {
   "cell_type": "code",
   "execution_count": 15,
   "metadata": {},
   "outputs": [],
   "source": [
    "import pickle\n",
    "from numpy import *\n",
    "\n",
    "filename = 'final_xgb.sav'\n",
    "gbm = pickle.load(open(filename, 'rb'))\n",
    "\n",
    "filename = 'xgb_test.sav'\n",
    "x_xgb_test = pickle.load(open(filename, 'rb'))\n",
    "\n",
    "filename = 'final_rf.sav'\n",
    "RFC = pickle.load(open(filename, 'rb'))\n",
    "\n",
    "filename = 'rf_test.sav'\n",
    "x_test = pickle.load(open(filename, 'rb'))\n",
    "\n",
    "filename = 'y_test.sav'\n",
    "y_test = pickle.load(open(filename, 'rb'))\n",
    "\n",
    "import xgboost as xgb\n",
    "\n",
    "y_hat_rf = RFC.predict(x_test)\n",
    "y_hat_xgb = gbm.predict(xgb.DMatrix(x_xgb_test))"
   ]
  },
  {
   "cell_type": "code",
   "execution_count": 16,
   "metadata": {},
   "outputs": [
    {
     "name": "stdout",
     "output_type": "stream",
     "text": [
      "Accuracy XGBoost: 0.7711442786069652\n",
      "Accuracy Random Forest: 0.7412935323383084\n",
      "\n",
      "Final model (RF+XGB logical AND ensemble) accuracy : 0.7910447761194029\n"
     ]
    }
   ],
   "source": [
    "y_hat_ensemble = y_hat_rf * y_hat_xgb\n",
    "\n",
    "accuracy = mean(y_hat_ensemble == y_test)\n",
    "accuracy_rf = mean(y_hat_rf == y_test)\n",
    "accuracy_xgb = mean(y_hat_xgb == y_test)\n",
    "\n",
    "print('Accuracy XGBoost: '+str(accuracy_xgb))\n",
    "print('Accuracy Random Forest: '+str(accuracy_rf))\n",
    "\n",
    "print('\\nFinal model (RF+XGB logical AND ensemble) accuracy : '+str(accuracy))"
   ]
  }
 ],
 "metadata": {
  "kernelspec": {
   "display_name": "Python 3",
   "language": "python",
   "name": "python3"
  },
  "language_info": {
   "codemirror_mode": {
    "name": "ipython",
    "version": 3
   },
   "file_extension": ".py",
   "mimetype": "text/x-python",
   "name": "python",
   "nbconvert_exporter": "python",
   "pygments_lexer": "ipython3",
   "version": "3.6.5"
  }
 },
 "nbformat": 4,
 "nbformat_minor": 2
}
